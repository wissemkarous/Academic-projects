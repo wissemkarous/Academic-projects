{
 "cells": [
  {
   "cell_type": "markdown",
   "id": "6cea8f29",
   "metadata": {
    "papermill": {
     "duration": 0.016044,
     "end_time": "2023-10-23T18:38:41.680451",
     "exception": false,
     "start_time": "2023-10-23T18:38:41.664407",
     "status": "completed"
    },
    "tags": []
   },
   "source": [
    "# Importing libraries"
   ]
  },
  {
   "cell_type": "code",
   "execution_count": 1,
   "id": "887ad542",
   "metadata": {
    "execution": {
     "iopub.execute_input": "2023-10-23T18:38:41.715412Z",
     "iopub.status.busy": "2023-10-23T18:38:41.714072Z",
     "iopub.status.idle": "2023-10-23T18:38:41.728513Z",
     "shell.execute_reply": "2023-10-23T18:38:41.727162Z"
    },
    "papermill": {
     "duration": 0.037262,
     "end_time": "2023-10-23T18:38:41.732662",
     "exception": false,
     "start_time": "2023-10-23T18:38:41.695400",
     "status": "completed"
    },
    "tags": []
   },
   "outputs": [],
   "source": [
    "import pandas as pd \n",
    "import numpy as np \n",
    "import matplotlib.pyplot as plt "
   ]
  },
  {
   "cell_type": "markdown",
   "id": "0e0ba4cc",
   "metadata": {
    "papermill": {
     "duration": 0.016067,
     "end_time": "2023-10-23T18:38:41.765414",
     "exception": false,
     "start_time": "2023-10-23T18:38:41.749347",
     "status": "completed"
    },
    "tags": []
   },
   "source": [
    "# Loading Data "
   ]
  },
  {
   "cell_type": "code",
   "execution_count": 2,
   "id": "5b639a8a",
   "metadata": {
    "execution": {
     "iopub.execute_input": "2023-10-23T18:38:41.798038Z",
     "iopub.status.busy": "2023-10-23T18:38:41.797562Z",
     "iopub.status.idle": "2023-10-23T18:38:41.818954Z",
     "shell.execute_reply": "2023-10-23T18:38:41.817341Z"
    },
    "papermill": {
     "duration": 0.041533,
     "end_time": "2023-10-23T18:38:41.822351",
     "exception": false,
     "start_time": "2023-10-23T18:38:41.780818",
     "status": "completed"
    },
    "tags": []
   },
   "outputs": [],
   "source": [
    "data=pd.read_csv(\"../input/tested1/tested.csv\")"
   ]
  },
  {
   "cell_type": "code",
   "execution_count": 3,
   "id": "97179a73",
   "metadata": {
    "execution": {
     "iopub.execute_input": "2023-10-23T18:38:41.856803Z",
     "iopub.status.busy": "2023-10-23T18:38:41.856257Z",
     "iopub.status.idle": "2023-10-23T18:38:41.867955Z",
     "shell.execute_reply": "2023-10-23T18:38:41.866665Z"
    },
    "papermill": {
     "duration": 0.031818,
     "end_time": "2023-10-23T18:38:41.870995",
     "exception": false,
     "start_time": "2023-10-23T18:38:41.839177",
     "status": "completed"
    },
    "tags": []
   },
   "outputs": [
    {
     "data": {
      "text/plain": [
       "(418, 12)"
      ]
     },
     "execution_count": 3,
     "metadata": {},
     "output_type": "execute_result"
    }
   ],
   "source": [
    "data.shape"
   ]
  },
  {
   "cell_type": "code",
   "execution_count": 4,
   "id": "cc664b5c",
   "metadata": {
    "execution": {
     "iopub.execute_input": "2023-10-23T18:38:41.906031Z",
     "iopub.status.busy": "2023-10-23T18:38:41.905454Z",
     "iopub.status.idle": "2023-10-23T18:38:41.940776Z",
     "shell.execute_reply": "2023-10-23T18:38:41.939295Z"
    },
    "papermill": {
     "duration": 0.057862,
     "end_time": "2023-10-23T18:38:41.944076",
     "exception": false,
     "start_time": "2023-10-23T18:38:41.886214",
     "status": "completed"
    },
    "tags": []
   },
   "outputs": [
    {
     "data": {
      "text/html": [
       "<div>\n",
       "<style scoped>\n",
       "    .dataframe tbody tr th:only-of-type {\n",
       "        vertical-align: middle;\n",
       "    }\n",
       "\n",
       "    .dataframe tbody tr th {\n",
       "        vertical-align: top;\n",
       "    }\n",
       "\n",
       "    .dataframe thead th {\n",
       "        text-align: right;\n",
       "    }\n",
       "</style>\n",
       "<table border=\"1\" class=\"dataframe\">\n",
       "  <thead>\n",
       "    <tr style=\"text-align: right;\">\n",
       "      <th></th>\n",
       "      <th>PassengerId</th>\n",
       "      <th>Survived</th>\n",
       "      <th>Pclass</th>\n",
       "      <th>Name</th>\n",
       "      <th>Sex</th>\n",
       "      <th>Age</th>\n",
       "      <th>SibSp</th>\n",
       "      <th>Parch</th>\n",
       "      <th>Ticket</th>\n",
       "      <th>Fare</th>\n",
       "      <th>Cabin</th>\n",
       "      <th>Embarked</th>\n",
       "    </tr>\n",
       "  </thead>\n",
       "  <tbody>\n",
       "    <tr>\n",
       "      <th>0</th>\n",
       "      <td>892</td>\n",
       "      <td>0</td>\n",
       "      <td>3</td>\n",
       "      <td>Kelly, Mr. James</td>\n",
       "      <td>male</td>\n",
       "      <td>34.5</td>\n",
       "      <td>0</td>\n",
       "      <td>0</td>\n",
       "      <td>330911</td>\n",
       "      <td>7.8292</td>\n",
       "      <td>NaN</td>\n",
       "      <td>Q</td>\n",
       "    </tr>\n",
       "    <tr>\n",
       "      <th>1</th>\n",
       "      <td>893</td>\n",
       "      <td>1</td>\n",
       "      <td>3</td>\n",
       "      <td>Wilkes, Mrs. James (Ellen Needs)</td>\n",
       "      <td>female</td>\n",
       "      <td>47.0</td>\n",
       "      <td>1</td>\n",
       "      <td>0</td>\n",
       "      <td>363272</td>\n",
       "      <td>7.0000</td>\n",
       "      <td>NaN</td>\n",
       "      <td>S</td>\n",
       "    </tr>\n",
       "    <tr>\n",
       "      <th>2</th>\n",
       "      <td>894</td>\n",
       "      <td>0</td>\n",
       "      <td>2</td>\n",
       "      <td>Myles, Mr. Thomas Francis</td>\n",
       "      <td>male</td>\n",
       "      <td>62.0</td>\n",
       "      <td>0</td>\n",
       "      <td>0</td>\n",
       "      <td>240276</td>\n",
       "      <td>9.6875</td>\n",
       "      <td>NaN</td>\n",
       "      <td>Q</td>\n",
       "    </tr>\n",
       "    <tr>\n",
       "      <th>3</th>\n",
       "      <td>895</td>\n",
       "      <td>0</td>\n",
       "      <td>3</td>\n",
       "      <td>Wirz, Mr. Albert</td>\n",
       "      <td>male</td>\n",
       "      <td>27.0</td>\n",
       "      <td>0</td>\n",
       "      <td>0</td>\n",
       "      <td>315154</td>\n",
       "      <td>8.6625</td>\n",
       "      <td>NaN</td>\n",
       "      <td>S</td>\n",
       "    </tr>\n",
       "    <tr>\n",
       "      <th>4</th>\n",
       "      <td>896</td>\n",
       "      <td>1</td>\n",
       "      <td>3</td>\n",
       "      <td>Hirvonen, Mrs. Alexander (Helga E Lindqvist)</td>\n",
       "      <td>female</td>\n",
       "      <td>22.0</td>\n",
       "      <td>1</td>\n",
       "      <td>1</td>\n",
       "      <td>3101298</td>\n",
       "      <td>12.2875</td>\n",
       "      <td>NaN</td>\n",
       "      <td>S</td>\n",
       "    </tr>\n",
       "  </tbody>\n",
       "</table>\n",
       "</div>"
      ],
      "text/plain": [
       "   PassengerId  Survived  Pclass  \\\n",
       "0          892         0       3   \n",
       "1          893         1       3   \n",
       "2          894         0       2   \n",
       "3          895         0       3   \n",
       "4          896         1       3   \n",
       "\n",
       "                                           Name     Sex   Age  SibSp  Parch  \\\n",
       "0                              Kelly, Mr. James    male  34.5      0      0   \n",
       "1              Wilkes, Mrs. James (Ellen Needs)  female  47.0      1      0   \n",
       "2                     Myles, Mr. Thomas Francis    male  62.0      0      0   \n",
       "3                              Wirz, Mr. Albert    male  27.0      0      0   \n",
       "4  Hirvonen, Mrs. Alexander (Helga E Lindqvist)  female  22.0      1      1   \n",
       "\n",
       "    Ticket     Fare Cabin Embarked  \n",
       "0   330911   7.8292   NaN        Q  \n",
       "1   363272   7.0000   NaN        S  \n",
       "2   240276   9.6875   NaN        Q  \n",
       "3   315154   8.6625   NaN        S  \n",
       "4  3101298  12.2875   NaN        S  "
      ]
     },
     "execution_count": 4,
     "metadata": {},
     "output_type": "execute_result"
    }
   ],
   "source": [
    "data.head()"
   ]
  },
  {
   "cell_type": "code",
   "execution_count": 5,
   "id": "9d226c47",
   "metadata": {
    "execution": {
     "iopub.execute_input": "2023-10-23T18:38:41.979419Z",
     "iopub.status.busy": "2023-10-23T18:38:41.978146Z",
     "iopub.status.idle": "2023-10-23T18:38:42.001780Z",
     "shell.execute_reply": "2023-10-23T18:38:41.998729Z"
    },
    "papermill": {
     "duration": 0.050034,
     "end_time": "2023-10-23T18:38:42.010581",
     "exception": false,
     "start_time": "2023-10-23T18:38:41.960547",
     "status": "completed"
    },
    "tags": []
   },
   "outputs": [
    {
     "data": {
      "text/html": [
       "<div>\n",
       "<style scoped>\n",
       "    .dataframe tbody tr th:only-of-type {\n",
       "        vertical-align: middle;\n",
       "    }\n",
       "\n",
       "    .dataframe tbody tr th {\n",
       "        vertical-align: top;\n",
       "    }\n",
       "\n",
       "    .dataframe thead th {\n",
       "        text-align: right;\n",
       "    }\n",
       "</style>\n",
       "<table border=\"1\" class=\"dataframe\">\n",
       "  <thead>\n",
       "    <tr style=\"text-align: right;\">\n",
       "      <th></th>\n",
       "      <th>PassengerId</th>\n",
       "      <th>Survived</th>\n",
       "      <th>Pclass</th>\n",
       "      <th>Name</th>\n",
       "      <th>Sex</th>\n",
       "      <th>Age</th>\n",
       "      <th>SibSp</th>\n",
       "      <th>Parch</th>\n",
       "      <th>Ticket</th>\n",
       "      <th>Fare</th>\n",
       "      <th>Cabin</th>\n",
       "      <th>Embarked</th>\n",
       "    </tr>\n",
       "  </thead>\n",
       "  <tbody>\n",
       "    <tr>\n",
       "      <th>413</th>\n",
       "      <td>1305</td>\n",
       "      <td>0</td>\n",
       "      <td>3</td>\n",
       "      <td>Spector, Mr. Woolf</td>\n",
       "      <td>male</td>\n",
       "      <td>NaN</td>\n",
       "      <td>0</td>\n",
       "      <td>0</td>\n",
       "      <td>A.5. 3236</td>\n",
       "      <td>8.0500</td>\n",
       "      <td>NaN</td>\n",
       "      <td>S</td>\n",
       "    </tr>\n",
       "    <tr>\n",
       "      <th>414</th>\n",
       "      <td>1306</td>\n",
       "      <td>1</td>\n",
       "      <td>1</td>\n",
       "      <td>Oliva y Ocana, Dona. Fermina</td>\n",
       "      <td>female</td>\n",
       "      <td>39.0</td>\n",
       "      <td>0</td>\n",
       "      <td>0</td>\n",
       "      <td>PC 17758</td>\n",
       "      <td>108.9000</td>\n",
       "      <td>C105</td>\n",
       "      <td>C</td>\n",
       "    </tr>\n",
       "    <tr>\n",
       "      <th>415</th>\n",
       "      <td>1307</td>\n",
       "      <td>0</td>\n",
       "      <td>3</td>\n",
       "      <td>Saether, Mr. Simon Sivertsen</td>\n",
       "      <td>male</td>\n",
       "      <td>38.5</td>\n",
       "      <td>0</td>\n",
       "      <td>0</td>\n",
       "      <td>SOTON/O.Q. 3101262</td>\n",
       "      <td>7.2500</td>\n",
       "      <td>NaN</td>\n",
       "      <td>S</td>\n",
       "    </tr>\n",
       "    <tr>\n",
       "      <th>416</th>\n",
       "      <td>1308</td>\n",
       "      <td>0</td>\n",
       "      <td>3</td>\n",
       "      <td>Ware, Mr. Frederick</td>\n",
       "      <td>male</td>\n",
       "      <td>NaN</td>\n",
       "      <td>0</td>\n",
       "      <td>0</td>\n",
       "      <td>359309</td>\n",
       "      <td>8.0500</td>\n",
       "      <td>NaN</td>\n",
       "      <td>S</td>\n",
       "    </tr>\n",
       "    <tr>\n",
       "      <th>417</th>\n",
       "      <td>1309</td>\n",
       "      <td>0</td>\n",
       "      <td>3</td>\n",
       "      <td>Peter, Master. Michael J</td>\n",
       "      <td>male</td>\n",
       "      <td>NaN</td>\n",
       "      <td>1</td>\n",
       "      <td>1</td>\n",
       "      <td>2668</td>\n",
       "      <td>22.3583</td>\n",
       "      <td>NaN</td>\n",
       "      <td>C</td>\n",
       "    </tr>\n",
       "  </tbody>\n",
       "</table>\n",
       "</div>"
      ],
      "text/plain": [
       "     PassengerId  Survived  Pclass                          Name     Sex  \\\n",
       "413         1305         0       3            Spector, Mr. Woolf    male   \n",
       "414         1306         1       1  Oliva y Ocana, Dona. Fermina  female   \n",
       "415         1307         0       3  Saether, Mr. Simon Sivertsen    male   \n",
       "416         1308         0       3           Ware, Mr. Frederick    male   \n",
       "417         1309         0       3      Peter, Master. Michael J    male   \n",
       "\n",
       "      Age  SibSp  Parch              Ticket      Fare Cabin Embarked  \n",
       "413   NaN      0      0           A.5. 3236    8.0500   NaN        S  \n",
       "414  39.0      0      0            PC 17758  108.9000  C105        C  \n",
       "415  38.5      0      0  SOTON/O.Q. 3101262    7.2500   NaN        S  \n",
       "416   NaN      0      0              359309    8.0500   NaN        S  \n",
       "417   NaN      1      1                2668   22.3583   NaN        C  "
      ]
     },
     "execution_count": 5,
     "metadata": {},
     "output_type": "execute_result"
    }
   ],
   "source": [
    "data.tail()"
   ]
  },
  {
   "cell_type": "markdown",
   "id": "1b6a7796",
   "metadata": {
    "papermill": {
     "duration": 0.01803,
     "end_time": "2023-10-23T18:38:42.046364",
     "exception": false,
     "start_time": "2023-10-23T18:38:42.028334",
     "status": "completed"
    },
    "tags": []
   },
   "source": [
    "# Data ANAlYSIS"
   ]
  },
  {
   "cell_type": "code",
   "execution_count": 6,
   "id": "5446effb",
   "metadata": {
    "execution": {
     "iopub.execute_input": "2023-10-23T18:38:42.086665Z",
     "iopub.status.busy": "2023-10-23T18:38:42.086207Z",
     "iopub.status.idle": "2023-10-23T18:38:42.096586Z",
     "shell.execute_reply": "2023-10-23T18:38:42.094768Z"
    },
    "papermill": {
     "duration": 0.034049,
     "end_time": "2023-10-23T18:38:42.100590",
     "exception": false,
     "start_time": "2023-10-23T18:38:42.066541",
     "status": "completed"
    },
    "tags": []
   },
   "outputs": [
    {
     "data": {
      "text/plain": [
       "['PassengerId',\n",
       " 'Survived',\n",
       " 'Pclass',\n",
       " 'Name',\n",
       " 'Sex',\n",
       " 'Age',\n",
       " 'SibSp',\n",
       " 'Parch',\n",
       " 'Ticket',\n",
       " 'Fare',\n",
       " 'Cabin',\n",
       " 'Embarked']"
      ]
     },
     "execution_count": 6,
     "metadata": {},
     "output_type": "execute_result"
    }
   ],
   "source": [
    "data.columns.to_list()"
   ]
  },
  {
   "cell_type": "code",
   "execution_count": 7,
   "id": "631a0209",
   "metadata": {
    "execution": {
     "iopub.execute_input": "2023-10-23T18:38:42.136643Z",
     "iopub.status.busy": "2023-10-23T18:38:42.136212Z",
     "iopub.status.idle": "2023-10-23T18:38:42.171079Z",
     "shell.execute_reply": "2023-10-23T18:38:42.168374Z"
    },
    "papermill": {
     "duration": 0.056948,
     "end_time": "2023-10-23T18:38:42.174262",
     "exception": false,
     "start_time": "2023-10-23T18:38:42.117314",
     "status": "completed"
    },
    "tags": []
   },
   "outputs": [
    {
     "name": "stdout",
     "output_type": "stream",
     "text": [
      "<class 'pandas.core.frame.DataFrame'>\n",
      "RangeIndex: 418 entries, 0 to 417\n",
      "Data columns (total 12 columns):\n",
      " #   Column       Non-Null Count  Dtype  \n",
      "---  ------       --------------  -----  \n",
      " 0   PassengerId  418 non-null    int64  \n",
      " 1   Survived     418 non-null    int64  \n",
      " 2   Pclass       418 non-null    int64  \n",
      " 3   Name         418 non-null    object \n",
      " 4   Sex          418 non-null    object \n",
      " 5   Age          332 non-null    float64\n",
      " 6   SibSp        418 non-null    int64  \n",
      " 7   Parch        418 non-null    int64  \n",
      " 8   Ticket       418 non-null    object \n",
      " 9   Fare         417 non-null    float64\n",
      " 10  Cabin        91 non-null     object \n",
      " 11  Embarked     418 non-null    object \n",
      "dtypes: float64(2), int64(5), object(5)\n",
      "memory usage: 39.3+ KB\n"
     ]
    }
   ],
   "source": [
    "data.info()"
   ]
  },
  {
   "cell_type": "code",
   "execution_count": 8,
   "id": "3d6260bc",
   "metadata": {
    "execution": {
     "iopub.execute_input": "2023-10-23T18:38:42.211805Z",
     "iopub.status.busy": "2023-10-23T18:38:42.211306Z",
     "iopub.status.idle": "2023-10-23T18:38:42.221928Z",
     "shell.execute_reply": "2023-10-23T18:38:42.220312Z"
    },
    "papermill": {
     "duration": 0.032637,
     "end_time": "2023-10-23T18:38:42.225043",
     "exception": false,
     "start_time": "2023-10-23T18:38:42.192406",
     "status": "completed"
    },
    "tags": []
   },
   "outputs": [
    {
     "data": {
      "text/plain": [
       "PassengerId      int64\n",
       "Survived         int64\n",
       "Pclass           int64\n",
       "Name            object\n",
       "Sex             object\n",
       "Age            float64\n",
       "SibSp            int64\n",
       "Parch            int64\n",
       "Ticket          object\n",
       "Fare           float64\n",
       "Cabin           object\n",
       "Embarked        object\n",
       "dtype: object"
      ]
     },
     "execution_count": 8,
     "metadata": {},
     "output_type": "execute_result"
    }
   ],
   "source": [
    "data.dtypes"
   ]
  },
  {
   "cell_type": "code",
   "execution_count": 9,
   "id": "64687866",
   "metadata": {
    "execution": {
     "iopub.execute_input": "2023-10-23T18:38:42.261946Z",
     "iopub.status.busy": "2023-10-23T18:38:42.261494Z",
     "iopub.status.idle": "2023-10-23T18:38:42.458256Z",
     "shell.execute_reply": "2023-10-23T18:38:42.456257Z"
    },
    "papermill": {
     "duration": 0.221036,
     "end_time": "2023-10-23T18:38:42.463527",
     "exception": false,
     "start_time": "2023-10-23T18:38:42.242491",
     "status": "completed"
    },
    "tags": []
   },
   "outputs": [
    {
     "data": {
      "text/plain": [
       "<AxesSubplot:ylabel='None'>"
      ]
     },
     "execution_count": 9,
     "metadata": {},
     "output_type": "execute_result"
    },
    {
     "data": {
      "image/png": "[encoded data removed]",
      "text/plain": [
       "<Figure size 432x288 with 1 Axes>"
      ]
     },
     "metadata": {},
     "output_type": "display_data"
    }
   ],
   "source": [
    "data.dtypes.value_counts().plot.pie()"
   ]
  },
  {
   "cell_type": "markdown",
   "id": "f1ca30ff",
   "metadata": {
    "papermill": {
     "duration": 0.028298,
     "end_time": "2023-10-23T18:38:42.530412",
     "exception": false,
     "start_time": "2023-10-23T18:38:42.502114",
     "status": "completed"
    },
    "tags": []
   },
   "source": [
    "# Missing values "
   ]
  },
  {
   "cell_type": "code",
   "execution_count": 10,
   "id": "d9c1e944",
   "metadata": {
    "execution": {
     "iopub.execute_input": "2023-10-23T18:38:42.567316Z",
     "iopub.status.busy": "2023-10-23T18:38:42.566805Z",
     "iopub.status.idle": "2023-10-23T18:38:42.601386Z",
     "shell.execute_reply": "2023-10-23T18:38:42.599936Z"
    },
    "papermill": {
     "duration": 0.056439,
     "end_time": "2023-10-23T18:38:42.604360",
     "exception": false,
     "start_time": "2023-10-23T18:38:42.547921",
     "status": "completed"
    },
    "tags": []
   },
   "outputs": [
    {
     "data": {
      "text/html": [
       "<div>\n",
       "<style scoped>\n",
       "    .dataframe tbody tr th:only-of-type {\n",
       "        vertical-align: middle;\n",
       "    }\n",
       "\n",
       "    .dataframe tbody tr th {\n",
       "        vertical-align: top;\n",
       "    }\n",
       "\n",
       "    .dataframe thead th {\n",
       "        text-align: right;\n",
       "    }\n",
       "</style>\n",
       "<table border=\"1\" class=\"dataframe\">\n",
       "  <thead>\n",
       "    <tr style=\"text-align: right;\">\n",
       "      <th></th>\n",
       "      <th>PassengerId</th>\n",
       "      <th>Survived</th>\n",
       "      <th>Pclass</th>\n",
       "      <th>Name</th>\n",
       "      <th>Sex</th>\n",
       "      <th>Age</th>\n",
       "      <th>SibSp</th>\n",
       "      <th>Parch</th>\n",
       "      <th>Ticket</th>\n",
       "      <th>Fare</th>\n",
       "      <th>Cabin</th>\n",
       "      <th>Embarked</th>\n",
       "    </tr>\n",
       "  </thead>\n",
       "  <tbody>\n",
       "    <tr>\n",
       "      <th>0</th>\n",
       "      <td>False</td>\n",
       "      <td>False</td>\n",
       "      <td>False</td>\n",
       "      <td>False</td>\n",
       "      <td>False</td>\n",
       "      <td>False</td>\n",
       "      <td>False</td>\n",
       "      <td>False</td>\n",
       "      <td>False</td>\n",
       "      <td>False</td>\n",
       "      <td>True</td>\n",
       "      <td>False</td>\n",
       "    </tr>\n",
       "    <tr>\n",
       "      <th>1</th>\n",
       "      <td>False</td>\n",
       "      <td>False</td>\n",
       "      <td>False</td>\n",
       "      <td>False</td>\n",
       "      <td>False</td>\n",
       "      <td>False</td>\n",
       "      <td>False</td>\n",
       "      <td>False</td>\n",
       "      <td>False</td>\n",
       "      <td>False</td>\n",
       "      <td>True</td>\n",
       "      <td>False</td>\n",
       "    </tr>\n",
       "    <tr>\n",
       "      <th>2</th>\n",
       "      <td>False</td>\n",
       "      <td>False</td>\n",
       "      <td>False</td>\n",
       "      <td>False</td>\n",
       "      <td>False</td>\n",
       "      <td>False</td>\n",
       "      <td>False</td>\n",
       "      <td>False</td>\n",
       "      <td>False</td>\n",
       "      <td>False</td>\n",
       "      <td>True</td>\n",
       "      <td>False</td>\n",
       "    </tr>\n",
       "    <tr>\n",
       "      <th>3</th>\n",
       "      <td>False</td>\n",
       "      <td>False</td>\n",
       "      <td>False</td>\n",
       "      <td>False</td>\n",
       "      <td>False</td>\n",
       "      <td>False</td>\n",
       "      <td>False</td>\n",
       "      <td>False</td>\n",
       "      <td>False</td>\n",
       "      <td>False</td>\n",
       "      <td>True</td>\n",
       "      <td>False</td>\n",
       "    </tr>\n",
       "    <tr>\n",
       "      <th>4</th>\n",
       "      <td>False</td>\n",
       "      <td>False</td>\n",
       "      <td>False</td>\n",
       "      <td>False</td>\n",
       "      <td>False</td>\n",
       "      <td>False</td>\n",
       "      <td>False</td>\n",
       "      <td>False</td>\n",
       "      <td>False</td>\n",
       "      <td>False</td>\n",
       "      <td>True</td>\n",
       "      <td>False</td>\n",
       "    </tr>\n",
       "    <tr>\n",
       "      <th>...</th>\n",
       "      <td>...</td>\n",
       "      <td>...</td>\n",
       "      <td>...</td>\n",
       "      <td>...</td>\n",
       "      <td>...</td>\n",
       "      <td>...</td>\n",
       "      <td>...</td>\n",
       "      <td>...</td>\n",
       "      <td>...</td>\n",
       "      <td>...</td>\n",
       "      <td>...</td>\n",
       "      <td>...</td>\n",
       "    </tr>\n",
       "    <tr>\n",
       "      <th>413</th>\n",
       "      <td>False</td>\n",
       "      <td>False</td>\n",
       "      <td>False</td>\n",
       "      <td>False</td>\n",
       "      <td>False</td>\n",
       "      <td>True</td>\n",
       "      <td>False</td>\n",
       "      <td>False</td>\n",
       "      <td>False</td>\n",
       "      <td>False</td>\n",
       "      <td>True</td>\n",
       "      <td>False</td>\n",
       "    </tr>\n",
       "    <tr>\n",
       "      <th>414</th>\n",
       "      <td>False</td>\n",
       "      <td>False</td>\n",
       "      <td>False</td>\n",
       "      <td>False</td>\n",
       "      <td>False</td>\n",
       "      <td>False</td>\n",
       "      <td>False</td>\n",
       "      <td>False</td>\n",
       "      <td>False</td>\n",
       "      <td>False</td>\n",
       "      <td>False</td>\n",
       "      <td>False</td>\n",
       "    </tr>\n",
       "    <tr>\n",
       "      <th>415</th>\n",
       "      <td>False</td>\n",
       "      <td>False</td>\n",
       "      <td>False</td>\n",
       "      <td>False</td>\n",
       "      <td>False</td>\n",
       "      <td>False</td>\n",
       "      <td>False</td>\n",
       "      <td>False</td>\n",
       "      <td>False</td>\n",
       "      <td>False</td>\n",
       "      <td>True</td>\n",
       "      <td>False</td>\n",
       "    </tr>\n",
       "    <tr>\n",
       "      <th>416</th>\n",
       "      <td>False</td>\n",
       "      <td>False</td>\n",
       "      <td>False</td>\n",
       "      <td>False</td>\n",
       "      <td>False</td>\n",
       "      <td>True</td>\n",
       "      <td>False</td>\n",
       "      <td>False</td>\n",
       "      <td>False</td>\n",
       "      <td>False</td>\n",
       "      <td>True</td>\n",
       "      <td>False</td>\n",
       "    </tr>\n",
       "    <tr>\n",
       "      <th>417</th>\n",
       "      <td>False</td>\n",
       "      <td>False</td>\n",
       "      <td>False</td>\n",
       "      <td>False</td>\n",
       "      <td>False</td>\n",
       "      <td>True</td>\n",
       "      <td>False</td>\n",
       "      <td>False</td>\n",
       "      <td>False</td>\n",
       "      <td>False</td>\n",
       "      <td>True</td>\n",
       "      <td>False</td>\n",
       "    </tr>\n",
       "  </tbody>\n",
       "</table>\n",
       "<p>418 rows × 12 columns</p>\n",
       "</div>"
      ],
      "text/plain": [
       "     PassengerId  Survived  Pclass   Name    Sex    Age  SibSp  Parch  Ticket  \\\n",
       "0          False     False   False  False  False  False  False  False   False   \n",
       "1          False     False   False  False  False  False  False  False   False   \n",
       "2          False     False   False  False  False  False  False  False   False   \n",
       "3          False     False   False  False  False  False  False  False   False   \n",
       "4          False     False   False  False  False  False  False  False   False   \n",
       "..           ...       ...     ...    ...    ...    ...    ...    ...     ...   \n",
       "413        False     False   False  False  False   True  False  False   False   \n",
       "414        False     False   False  False  False  False  False  False   False   \n",
       "415        False     False   False  False  False  False  False  False   False   \n",
       "416        False     False   False  False  False   True  False  False   False   \n",
       "417        False     False   False  False  False   True  False  False   False   \n",
       "\n",
       "      Fare  Cabin  Embarked  \n",
       "0    False   True     False  \n",
       "1    False   True     False  \n",
       "2    False   True     False  \n",
       "3    False   True     False  \n",
       "4    False   True     False  \n",
       "..     ...    ...       ...  \n",
       "413  False   True     False  \n",
       "414  False  False     False  \n",
       "415  False   True     False  \n",
       "416  False   True     False  \n",
       "417  False   True     False  \n",
       "\n",
       "[418 rows x 12 columns]"
      ]
     },
     "execution_count": 10,
     "metadata": {},
     "output_type": "execute_result"
    }
   ],
   "source": [
    "data.isna()"
   ]
  },
  {
   "cell_type": "code",
   "execution_count": 11,
   "id": "d69ea054",
   "metadata": {
    "execution": {
     "iopub.execute_input": "2023-10-23T18:38:42.640171Z",
     "iopub.status.busy": "2023-10-23T18:38:42.639656Z",
     "iopub.status.idle": "2023-10-23T18:38:44.156959Z",
     "shell.execute_reply": "2023-10-23T18:38:44.155310Z"
    },
    "papermill": {
     "duration": 1.53887,
     "end_time": "2023-10-23T18:38:44.160211",
     "exception": false,
     "start_time": "2023-10-23T18:38:42.621341",
     "status": "completed"
    },
    "tags": []
   },
   "outputs": [],
   "source": [
    "import seaborn as sns "
   ]
  },
  {
   "cell_type": "code",
   "execution_count": 12,
   "id": "9ff52592",
   "metadata": {
    "execution": {
     "iopub.execute_input": "2023-10-23T18:38:44.197783Z",
     "iopub.status.busy": "2023-10-23T18:38:44.197265Z",
     "iopub.status.idle": "2023-10-23T18:38:45.384424Z",
     "shell.execute_reply": "2023-10-23T18:38:45.383069Z"
    },
    "papermill": {
     "duration": 1.210442,
     "end_time": "2023-10-23T18:38:45.388339",
     "exception": false,
     "start_time": "2023-10-23T18:38:44.177897",
     "status": "completed"
    },
    "scrolled": true,
    "tags": []
   },
   "outputs": [
    {
     "data": {
      "text/plain": [
       "<AxesSubplot:>"
      ]
     },
     "execution_count": 12,
     "metadata": {},
     "output_type": "execute_result"
    },
    {
     "data": {
      "image/png": "[encoded data removed]",
      "text/plain": [
       "<Figure size 1440x720 with 2 Axes>"
      ]
     },
     "metadata": {
      "needs_background": "light"
     },
     "output_type": "display_data"
    }
   ],
   "source": [
    "plt.figure(figsize=(20,10))\n",
    "sns.heatmap(data.isna(), cbar=True)"
   ]
  },
  {
   "cell_type": "code",
   "execution_count": 13,
   "id": "4813785e",
   "metadata": {
    "execution": {
     "iopub.execute_input": "2023-10-23T18:38:45.431434Z",
     "iopub.status.busy": "2023-10-23T18:38:45.430917Z",
     "iopub.status.idle": "2023-10-23T18:38:45.442464Z",
     "shell.execute_reply": "2023-10-23T18:38:45.441484Z"
    },
    "papermill": {
     "duration": 0.037193,
     "end_time": "2023-10-23T18:38:45.445968",
     "exception": false,
     "start_time": "2023-10-23T18:38:45.408775",
     "status": "completed"
    },
    "tags": []
   },
   "outputs": [
    {
     "data": {
      "text/plain": [
       "PassengerId      0\n",
       "Survived         0\n",
       "Pclass           0\n",
       "Name             0\n",
       "Sex              0\n",
       "Age             86\n",
       "SibSp            0\n",
       "Parch            0\n",
       "Ticket           0\n",
       "Fare             1\n",
       "Cabin          327\n",
       "Embarked         0\n",
       "dtype: int64"
      ]
     },
     "execution_count": 13,
     "metadata": {},
     "output_type": "execute_result"
    }
   ],
   "source": [
    "data.isna().sum()"
   ]
  },
  {
   "cell_type": "code",
   "execution_count": 14,
   "id": "02c070ab",
   "metadata": {
    "execution": {
     "iopub.execute_input": "2023-10-23T18:38:45.487203Z",
     "iopub.status.busy": "2023-10-23T18:38:45.486692Z",
     "iopub.status.idle": "2023-10-23T18:38:45.496497Z",
     "shell.execute_reply": "2023-10-23T18:38:45.495070Z"
    },
    "papermill": {
     "duration": 0.032949,
     "end_time": "2023-10-23T18:38:45.499478",
     "exception": false,
     "start_time": "2023-10-23T18:38:45.466529",
     "status": "completed"
    },
    "tags": []
   },
   "outputs": [],
   "source": [
    "data=data.drop(['PassengerId','Name','Ticket','Cabin'],axis=1)"
   ]
  },
  {
   "cell_type": "code",
   "execution_count": 15,
   "id": "0a8dc3ce",
   "metadata": {
    "execution": {
     "iopub.execute_input": "2023-10-23T18:38:45.539513Z",
     "iopub.status.busy": "2023-10-23T18:38:45.538985Z",
     "iopub.status.idle": "2023-10-23T18:38:45.567824Z",
     "shell.execute_reply": "2023-10-23T18:38:45.566424Z"
    },
    "papermill": {
     "duration": 0.052924,
     "end_time": "2023-10-23T18:38:45.570799",
     "exception": false,
     "start_time": "2023-10-23T18:38:45.517875",
     "status": "completed"
    },
    "tags": []
   },
   "outputs": [
    {
     "data": {
      "text/html": [
       "<div>\n",
       "<style scoped>\n",
       "    .dataframe tbody tr th:only-of-type {\n",
       "        vertical-align: middle;\n",
       "    }\n",
       "\n",
       "    .dataframe tbody tr th {\n",
       "        vertical-align: top;\n",
       "    }\n",
       "\n",
       "    .dataframe thead th {\n",
       "        text-align: right;\n",
       "    }\n",
       "</style>\n",
       "<table border=\"1\" class=\"dataframe\">\n",
       "  <thead>\n",
       "    <tr style=\"text-align: right;\">\n",
       "      <th></th>\n",
       "      <th>Survived</th>\n",
       "      <th>Pclass</th>\n",
       "      <th>Sex</th>\n",
       "      <th>Age</th>\n",
       "      <th>SibSp</th>\n",
       "      <th>Parch</th>\n",
       "      <th>Fare</th>\n",
       "      <th>Embarked</th>\n",
       "    </tr>\n",
       "  </thead>\n",
       "  <tbody>\n",
       "    <tr>\n",
       "      <th>0</th>\n",
       "      <td>0</td>\n",
       "      <td>3</td>\n",
       "      <td>male</td>\n",
       "      <td>34.5</td>\n",
       "      <td>0</td>\n",
       "      <td>0</td>\n",
       "      <td>7.8292</td>\n",
       "      <td>Q</td>\n",
       "    </tr>\n",
       "    <tr>\n",
       "      <th>1</th>\n",
       "      <td>1</td>\n",
       "      <td>3</td>\n",
       "      <td>female</td>\n",
       "      <td>47.0</td>\n",
       "      <td>1</td>\n",
       "      <td>0</td>\n",
       "      <td>7.0000</td>\n",
       "      <td>S</td>\n",
       "    </tr>\n",
       "    <tr>\n",
       "      <th>2</th>\n",
       "      <td>0</td>\n",
       "      <td>2</td>\n",
       "      <td>male</td>\n",
       "      <td>62.0</td>\n",
       "      <td>0</td>\n",
       "      <td>0</td>\n",
       "      <td>9.6875</td>\n",
       "      <td>Q</td>\n",
       "    </tr>\n",
       "    <tr>\n",
       "      <th>3</th>\n",
       "      <td>0</td>\n",
       "      <td>3</td>\n",
       "      <td>male</td>\n",
       "      <td>27.0</td>\n",
       "      <td>0</td>\n",
       "      <td>0</td>\n",
       "      <td>8.6625</td>\n",
       "      <td>S</td>\n",
       "    </tr>\n",
       "    <tr>\n",
       "      <th>4</th>\n",
       "      <td>1</td>\n",
       "      <td>3</td>\n",
       "      <td>female</td>\n",
       "      <td>22.0</td>\n",
       "      <td>1</td>\n",
       "      <td>1</td>\n",
       "      <td>12.2875</td>\n",
       "      <td>S</td>\n",
       "    </tr>\n",
       "    <tr>\n",
       "      <th>...</th>\n",
       "      <td>...</td>\n",
       "      <td>...</td>\n",
       "      <td>...</td>\n",
       "      <td>...</td>\n",
       "      <td>...</td>\n",
       "      <td>...</td>\n",
       "      <td>...</td>\n",
       "      <td>...</td>\n",
       "    </tr>\n",
       "    <tr>\n",
       "      <th>413</th>\n",
       "      <td>0</td>\n",
       "      <td>3</td>\n",
       "      <td>male</td>\n",
       "      <td>NaN</td>\n",
       "      <td>0</td>\n",
       "      <td>0</td>\n",
       "      <td>8.0500</td>\n",
       "      <td>S</td>\n",
       "    </tr>\n",
       "    <tr>\n",
       "      <th>414</th>\n",
       "      <td>1</td>\n",
       "      <td>1</td>\n",
       "      <td>female</td>\n",
       "      <td>39.0</td>\n",
       "      <td>0</td>\n",
       "      <td>0</td>\n",
       "      <td>108.9000</td>\n",
       "      <td>C</td>\n",
       "    </tr>\n",
       "    <tr>\n",
       "      <th>415</th>\n",
       "      <td>0</td>\n",
       "      <td>3</td>\n",
       "      <td>male</td>\n",
       "      <td>38.5</td>\n",
       "      <td>0</td>\n",
       "      <td>0</td>\n",
       "      <td>7.2500</td>\n",
       "      <td>S</td>\n",
       "    </tr>\n",
       "    <tr>\n",
       "      <th>416</th>\n",
       "      <td>0</td>\n",
       "      <td>3</td>\n",
       "      <td>male</td>\n",
       "      <td>NaN</td>\n",
       "      <td>0</td>\n",
       "      <td>0</td>\n",
       "      <td>8.0500</td>\n",
       "      <td>S</td>\n",
       "    </tr>\n",
       "    <tr>\n",
       "      <th>417</th>\n",
       "      <td>0</td>\n",
       "      <td>3</td>\n",
       "      <td>male</td>\n",
       "      <td>NaN</td>\n",
       "      <td>1</td>\n",
       "      <td>1</td>\n",
       "      <td>22.3583</td>\n",
       "      <td>C</td>\n",
       "    </tr>\n",
       "  </tbody>\n",
       "</table>\n",
       "<p>418 rows × 8 columns</p>\n",
       "</div>"
      ],
      "text/plain": [
       "     Survived  Pclass     Sex   Age  SibSp  Parch      Fare Embarked\n",
       "0           0       3    male  34.5      0      0    7.8292        Q\n",
       "1           1       3  female  47.0      1      0    7.0000        S\n",
       "2           0       2    male  62.0      0      0    9.6875        Q\n",
       "3           0       3    male  27.0      0      0    8.6625        S\n",
       "4           1       3  female  22.0      1      1   12.2875        S\n",
       "..        ...     ...     ...   ...    ...    ...       ...      ...\n",
       "413         0       3    male   NaN      0      0    8.0500        S\n",
       "414         1       1  female  39.0      0      0  108.9000        C\n",
       "415         0       3    male  38.5      0      0    7.2500        S\n",
       "416         0       3    male   NaN      0      0    8.0500        S\n",
       "417         0       3    male   NaN      1      1   22.3583        C\n",
       "\n",
       "[418 rows x 8 columns]"
      ]
     },
     "execution_count": 15,
     "metadata": {},
     "output_type": "execute_result"
    }
   ],
   "source": [
    "data"
   ]
  },
  {
   "cell_type": "code",
   "execution_count": 16,
   "id": "dee987d7",
   "metadata": {
    "execution": {
     "iopub.execute_input": "2023-10-23T18:38:45.611939Z",
     "iopub.status.busy": "2023-10-23T18:38:45.611437Z",
     "iopub.status.idle": "2023-10-23T18:38:45.629021Z",
     "shell.execute_reply": "2023-10-23T18:38:45.627256Z"
    },
    "papermill": {
     "duration": 0.041282,
     "end_time": "2023-10-23T18:38:45.632093",
     "exception": false,
     "start_time": "2023-10-23T18:38:45.590811",
     "status": "completed"
    },
    "tags": []
   },
   "outputs": [
    {
     "name": "stdout",
     "output_type": "stream",
     "text": [
      "<class 'pandas.core.frame.DataFrame'>\n",
      "RangeIndex: 418 entries, 0 to 417\n",
      "Data columns (total 8 columns):\n",
      " #   Column    Non-Null Count  Dtype  \n",
      "---  ------    --------------  -----  \n",
      " 0   Survived  418 non-null    int64  \n",
      " 1   Pclass    418 non-null    int64  \n",
      " 2   Sex       418 non-null    object \n",
      " 3   Age       332 non-null    float64\n",
      " 4   SibSp     418 non-null    int64  \n",
      " 5   Parch     418 non-null    int64  \n",
      " 6   Fare      417 non-null    float64\n",
      " 7   Embarked  418 non-null    object \n",
      "dtypes: float64(2), int64(4), object(2)\n",
      "memory usage: 26.2+ KB\n"
     ]
    }
   ],
   "source": [
    "data.info()"
   ]
  },
  {
   "cell_type": "markdown",
   "id": "ea58134b",
   "metadata": {
    "papermill": {
     "duration": 0.018122,
     "end_time": "2023-10-23T18:38:45.669296",
     "exception": false,
     "start_time": "2023-10-23T18:38:45.651174",
     "status": "completed"
    },
    "tags": []
   },
   "source": [
    "# Etude Statistique"
   ]
  },
  {
   "cell_type": "code",
   "execution_count": 17,
   "id": "9eac2f4d",
   "metadata": {
    "execution": {
     "iopub.execute_input": "2023-10-23T18:38:45.708718Z",
     "iopub.status.busy": "2023-10-23T18:38:45.708152Z",
     "iopub.status.idle": "2023-10-23T18:38:45.745404Z",
     "shell.execute_reply": "2023-10-23T18:38:45.744048Z"
    },
    "papermill": {
     "duration": 0.060561,
     "end_time": "2023-10-23T18:38:45.748225",
     "exception": false,
     "start_time": "2023-10-23T18:38:45.687664",
     "status": "completed"
    },
    "tags": []
   },
   "outputs": [
    {
     "data": {
      "text/html": [
       "<div>\n",
       "<style scoped>\n",
       "    .dataframe tbody tr th:only-of-type {\n",
       "        vertical-align: middle;\n",
       "    }\n",
       "\n",
       "    .dataframe tbody tr th {\n",
       "        vertical-align: top;\n",
       "    }\n",
       "\n",
       "    .dataframe thead th {\n",
       "        text-align: right;\n",
       "    }\n",
       "</style>\n",
       "<table border=\"1\" class=\"dataframe\">\n",
       "  <thead>\n",
       "    <tr style=\"text-align: right;\">\n",
       "      <th></th>\n",
       "      <th>Survived</th>\n",
       "      <th>Pclass</th>\n",
       "      <th>Age</th>\n",
       "      <th>SibSp</th>\n",
       "      <th>Parch</th>\n",
       "      <th>Fare</th>\n",
       "    </tr>\n",
       "  </thead>\n",
       "  <tbody>\n",
       "    <tr>\n",
       "      <th>count</th>\n",
       "      <td>418.000000</td>\n",
       "      <td>418.000000</td>\n",
       "      <td>332.000000</td>\n",
       "      <td>418.000000</td>\n",
       "      <td>418.000000</td>\n",
       "      <td>417.000000</td>\n",
       "    </tr>\n",
       "    <tr>\n",
       "      <th>mean</th>\n",
       "      <td>0.363636</td>\n",
       "      <td>2.265550</td>\n",
       "      <td>30.272590</td>\n",
       "      <td>0.447368</td>\n",
       "      <td>0.392344</td>\n",
       "      <td>35.627188</td>\n",
       "    </tr>\n",
       "    <tr>\n",
       "      <th>std</th>\n",
       "      <td>0.481622</td>\n",
       "      <td>0.841838</td>\n",
       "      <td>14.181209</td>\n",
       "      <td>0.896760</td>\n",
       "      <td>0.981429</td>\n",
       "      <td>55.907576</td>\n",
       "    </tr>\n",
       "    <tr>\n",
       "      <th>min</th>\n",
       "      <td>0.000000</td>\n",
       "      <td>1.000000</td>\n",
       "      <td>0.170000</td>\n",
       "      <td>0.000000</td>\n",
       "      <td>0.000000</td>\n",
       "      <td>0.000000</td>\n",
       "    </tr>\n",
       "    <tr>\n",
       "      <th>25%</th>\n",
       "      <td>0.000000</td>\n",
       "      <td>1.000000</td>\n",
       "      <td>21.000000</td>\n",
       "      <td>0.000000</td>\n",
       "      <td>0.000000</td>\n",
       "      <td>7.895800</td>\n",
       "    </tr>\n",
       "    <tr>\n",
       "      <th>50%</th>\n",
       "      <td>0.000000</td>\n",
       "      <td>3.000000</td>\n",
       "      <td>27.000000</td>\n",
       "      <td>0.000000</td>\n",
       "      <td>0.000000</td>\n",
       "      <td>14.454200</td>\n",
       "    </tr>\n",
       "    <tr>\n",
       "      <th>75%</th>\n",
       "      <td>1.000000</td>\n",
       "      <td>3.000000</td>\n",
       "      <td>39.000000</td>\n",
       "      <td>1.000000</td>\n",
       "      <td>0.000000</td>\n",
       "      <td>31.500000</td>\n",
       "    </tr>\n",
       "    <tr>\n",
       "      <th>max</th>\n",
       "      <td>1.000000</td>\n",
       "      <td>3.000000</td>\n",
       "      <td>76.000000</td>\n",
       "      <td>8.000000</td>\n",
       "      <td>9.000000</td>\n",
       "      <td>512.329200</td>\n",
       "    </tr>\n",
       "  </tbody>\n",
       "</table>\n",
       "</div>"
      ],
      "text/plain": [
       "         Survived      Pclass         Age       SibSp       Parch        Fare\n",
       "count  418.000000  418.000000  332.000000  418.000000  418.000000  417.000000\n",
       "mean     0.363636    2.265550   30.272590    0.447368    0.392344   35.627188\n",
       "std      0.481622    0.841838   14.181209    0.896760    0.981429   55.907576\n",
       "min      0.000000    1.000000    0.170000    0.000000    0.000000    0.000000\n",
       "25%      0.000000    1.000000   21.000000    0.000000    0.000000    7.895800\n",
       "50%      0.000000    3.000000   27.000000    0.000000    0.000000   14.454200\n",
       "75%      1.000000    3.000000   39.000000    1.000000    0.000000   31.500000\n",
       "max      1.000000    3.000000   76.000000    8.000000    9.000000  512.329200"
      ]
     },
     "execution_count": 17,
     "metadata": {},
     "output_type": "execute_result"
    }
   ],
   "source": [
    "data.describe ()"
   ]
  },
  {
   "cell_type": "code",
   "execution_count": 18,
   "id": "bc1fc37c",
   "metadata": {
    "execution": {
     "iopub.execute_input": "2023-10-23T18:38:45.789387Z",
     "iopub.status.busy": "2023-10-23T18:38:45.787871Z",
     "iopub.status.idle": "2023-10-23T18:38:45.833085Z",
     "shell.execute_reply": "2023-10-23T18:38:45.831495Z"
    },
    "papermill": {
     "duration": 0.068951,
     "end_time": "2023-10-23T18:38:45.836047",
     "exception": false,
     "start_time": "2023-10-23T18:38:45.767096",
     "status": "completed"
    },
    "tags": []
   },
   "outputs": [
    {
     "data": {
      "text/html": [
       "<div>\n",
       "<style scoped>\n",
       "    .dataframe tbody tr th:only-of-type {\n",
       "        vertical-align: middle;\n",
       "    }\n",
       "\n",
       "    .dataframe tbody tr th {\n",
       "        vertical-align: top;\n",
       "    }\n",
       "\n",
       "    .dataframe thead th {\n",
       "        text-align: right;\n",
       "    }\n",
       "</style>\n",
       "<table border=\"1\" class=\"dataframe\">\n",
       "  <thead>\n",
       "    <tr style=\"text-align: right;\">\n",
       "      <th></th>\n",
       "      <th>Survived</th>\n",
       "      <th>Pclass</th>\n",
       "      <th>Sex</th>\n",
       "      <th>Age</th>\n",
       "      <th>SibSp</th>\n",
       "      <th>Parch</th>\n",
       "      <th>Fare</th>\n",
       "      <th>Embarked</th>\n",
       "    </tr>\n",
       "  </thead>\n",
       "  <tbody>\n",
       "    <tr>\n",
       "      <th>count</th>\n",
       "      <td>418.000000</td>\n",
       "      <td>418.000000</td>\n",
       "      <td>418</td>\n",
       "      <td>332.000000</td>\n",
       "      <td>418.000000</td>\n",
       "      <td>418.000000</td>\n",
       "      <td>417.000000</td>\n",
       "      <td>418</td>\n",
       "    </tr>\n",
       "    <tr>\n",
       "      <th>unique</th>\n",
       "      <td>NaN</td>\n",
       "      <td>NaN</td>\n",
       "      <td>2</td>\n",
       "      <td>NaN</td>\n",
       "      <td>NaN</td>\n",
       "      <td>NaN</td>\n",
       "      <td>NaN</td>\n",
       "      <td>3</td>\n",
       "    </tr>\n",
       "    <tr>\n",
       "      <th>top</th>\n",
       "      <td>NaN</td>\n",
       "      <td>NaN</td>\n",
       "      <td>male</td>\n",
       "      <td>NaN</td>\n",
       "      <td>NaN</td>\n",
       "      <td>NaN</td>\n",
       "      <td>NaN</td>\n",
       "      <td>S</td>\n",
       "    </tr>\n",
       "    <tr>\n",
       "      <th>freq</th>\n",
       "      <td>NaN</td>\n",
       "      <td>NaN</td>\n",
       "      <td>266</td>\n",
       "      <td>NaN</td>\n",
       "      <td>NaN</td>\n",
       "      <td>NaN</td>\n",
       "      <td>NaN</td>\n",
       "      <td>270</td>\n",
       "    </tr>\n",
       "    <tr>\n",
       "      <th>mean</th>\n",
       "      <td>0.363636</td>\n",
       "      <td>2.265550</td>\n",
       "      <td>NaN</td>\n",
       "      <td>30.272590</td>\n",
       "      <td>0.447368</td>\n",
       "      <td>0.392344</td>\n",
       "      <td>35.627188</td>\n",
       "      <td>NaN</td>\n",
       "    </tr>\n",
       "    <tr>\n",
       "      <th>std</th>\n",
       "      <td>0.481622</td>\n",
       "      <td>0.841838</td>\n",
       "      <td>NaN</td>\n",
       "      <td>14.181209</td>\n",
       "      <td>0.896760</td>\n",
       "      <td>0.981429</td>\n",
       "      <td>55.907576</td>\n",
       "      <td>NaN</td>\n",
       "    </tr>\n",
       "    <tr>\n",
       "      <th>min</th>\n",
       "      <td>0.000000</td>\n",
       "      <td>1.000000</td>\n",
       "      <td>NaN</td>\n",
       "      <td>0.170000</td>\n",
       "      <td>0.000000</td>\n",
       "      <td>0.000000</td>\n",
       "      <td>0.000000</td>\n",
       "      <td>NaN</td>\n",
       "    </tr>\n",
       "    <tr>\n",
       "      <th>25%</th>\n",
       "      <td>0.000000</td>\n",
       "      <td>1.000000</td>\n",
       "      <td>NaN</td>\n",
       "      <td>21.000000</td>\n",
       "      <td>0.000000</td>\n",
       "      <td>0.000000</td>\n",
       "      <td>7.895800</td>\n",
       "      <td>NaN</td>\n",
       "    </tr>\n",
       "    <tr>\n",
       "      <th>50%</th>\n",
       "      <td>0.000000</td>\n",
       "      <td>3.000000</td>\n",
       "      <td>NaN</td>\n",
       "      <td>27.000000</td>\n",
       "      <td>0.000000</td>\n",
       "      <td>0.000000</td>\n",
       "      <td>14.454200</td>\n",
       "      <td>NaN</td>\n",
       "    </tr>\n",
       "    <tr>\n",
       "      <th>75%</th>\n",
       "      <td>1.000000</td>\n",
       "      <td>3.000000</td>\n",
       "      <td>NaN</td>\n",
       "      <td>39.000000</td>\n",
       "      <td>1.000000</td>\n",
       "      <td>0.000000</td>\n",
       "      <td>31.500000</td>\n",
       "      <td>NaN</td>\n",
       "    </tr>\n",
       "    <tr>\n",
       "      <th>max</th>\n",
       "      <td>1.000000</td>\n",
       "      <td>3.000000</td>\n",
       "      <td>NaN</td>\n",
       "      <td>76.000000</td>\n",
       "      <td>8.000000</td>\n",
       "      <td>9.000000</td>\n",
       "      <td>512.329200</td>\n",
       "      <td>NaN</td>\n",
       "    </tr>\n",
       "  </tbody>\n",
       "</table>\n",
       "</div>"
      ],
      "text/plain": [
       "          Survived      Pclass   Sex         Age       SibSp       Parch  \\\n",
       "count   418.000000  418.000000   418  332.000000  418.000000  418.000000   \n",
       "unique         NaN         NaN     2         NaN         NaN         NaN   \n",
       "top            NaN         NaN  male         NaN         NaN         NaN   \n",
       "freq           NaN         NaN   266         NaN         NaN         NaN   \n",
       "mean      0.363636    2.265550   NaN   30.272590    0.447368    0.392344   \n",
       "std       0.481622    0.841838   NaN   14.181209    0.896760    0.981429   \n",
       "min       0.000000    1.000000   NaN    0.170000    0.000000    0.000000   \n",
       "25%       0.000000    1.000000   NaN   21.000000    0.000000    0.000000   \n",
       "50%       0.000000    3.000000   NaN   27.000000    0.000000    0.000000   \n",
       "75%       1.000000    3.000000   NaN   39.000000    1.000000    0.000000   \n",
       "max       1.000000    3.000000   NaN   76.000000    8.000000    9.000000   \n",
       "\n",
       "              Fare Embarked  \n",
       "count   417.000000      418  \n",
       "unique         NaN        3  \n",
       "top            NaN        S  \n",
       "freq           NaN      270  \n",
       "mean     35.627188      NaN  \n",
       "std      55.907576      NaN  \n",
       "min       0.000000      NaN  \n",
       "25%       7.895800      NaN  \n",
       "50%      14.454200      NaN  \n",
       "75%      31.500000      NaN  \n",
       "max     512.329200      NaN  "
      ]
     },
     "execution_count": 18,
     "metadata": {},
     "output_type": "execute_result"
    }
   ],
   "source": [
    "data.describe (include='all')"
   ]
  },
  {
   "cell_type": "code",
   "execution_count": 19,
   "id": "ddd4738d",
   "metadata": {
    "execution": {
     "iopub.execute_input": "2023-10-23T18:38:45.876592Z",
     "iopub.status.busy": "2023-10-23T18:38:45.876183Z",
     "iopub.status.idle": "2023-10-23T18:38:45.894620Z",
     "shell.execute_reply": "2023-10-23T18:38:45.893204Z"
    },
    "papermill": {
     "duration": 0.042089,
     "end_time": "2023-10-23T18:38:45.897430",
     "exception": false,
     "start_time": "2023-10-23T18:38:45.855341",
     "status": "completed"
    },
    "tags": []
   },
   "outputs": [
    {
     "data": {
      "text/html": [
       "<div>\n",
       "<style scoped>\n",
       "    .dataframe tbody tr th:only-of-type {\n",
       "        vertical-align: middle;\n",
       "    }\n",
       "\n",
       "    .dataframe tbody tr th {\n",
       "        vertical-align: top;\n",
       "    }\n",
       "\n",
       "    .dataframe thead th {\n",
       "        text-align: right;\n",
       "    }\n",
       "</style>\n",
       "<table border=\"1\" class=\"dataframe\">\n",
       "  <thead>\n",
       "    <tr style=\"text-align: right;\">\n",
       "      <th></th>\n",
       "      <th>Sex</th>\n",
       "      <th>Embarked</th>\n",
       "    </tr>\n",
       "  </thead>\n",
       "  <tbody>\n",
       "    <tr>\n",
       "      <th>count</th>\n",
       "      <td>418</td>\n",
       "      <td>418</td>\n",
       "    </tr>\n",
       "    <tr>\n",
       "      <th>unique</th>\n",
       "      <td>2</td>\n",
       "      <td>3</td>\n",
       "    </tr>\n",
       "    <tr>\n",
       "      <th>top</th>\n",
       "      <td>male</td>\n",
       "      <td>S</td>\n",
       "    </tr>\n",
       "    <tr>\n",
       "      <th>freq</th>\n",
       "      <td>266</td>\n",
       "      <td>270</td>\n",
       "    </tr>\n",
       "  </tbody>\n",
       "</table>\n",
       "</div>"
      ],
      "text/plain": [
       "         Sex Embarked\n",
       "count    418      418\n",
       "unique     2        3\n",
       "top     male        S\n",
       "freq     266      270"
      ]
     },
     "execution_count": 19,
     "metadata": {},
     "output_type": "execute_result"
    }
   ],
   "source": [
    "data.describe(include='O')"
   ]
  },
  {
   "cell_type": "code",
   "execution_count": 20,
   "id": "7168143d",
   "metadata": {
    "execution": {
     "iopub.execute_input": "2023-10-23T18:38:45.940283Z",
     "iopub.status.busy": "2023-10-23T18:38:45.939108Z",
     "iopub.status.idle": "2023-10-23T18:38:45.947655Z",
     "shell.execute_reply": "2023-10-23T18:38:45.946163Z"
    },
    "papermill": {
     "duration": 0.032987,
     "end_time": "2023-10-23T18:38:45.950564",
     "exception": false,
     "start_time": "2023-10-23T18:38:45.917577",
     "status": "completed"
    },
    "tags": []
   },
   "outputs": [],
   "source": [
    "corr=data.corr()"
   ]
  },
  {
   "cell_type": "code",
   "execution_count": 21,
   "id": "823ef4c8",
   "metadata": {
    "execution": {
     "iopub.execute_input": "2023-10-23T18:38:45.992369Z",
     "iopub.status.busy": "2023-10-23T18:38:45.991861Z",
     "iopub.status.idle": "2023-10-23T18:38:46.016246Z",
     "shell.execute_reply": "2023-10-23T18:38:46.014475Z"
    },
    "papermill": {
     "duration": 0.048812,
     "end_time": "2023-10-23T18:38:46.019293",
     "exception": false,
     "start_time": "2023-10-23T18:38:45.970481",
     "status": "completed"
    },
    "tags": []
   },
   "outputs": [
    {
     "data": {
      "text/html": [
       "<div>\n",
       "<style scoped>\n",
       "    .dataframe tbody tr th:only-of-type {\n",
       "        vertical-align: middle;\n",
       "    }\n",
       "\n",
       "    .dataframe tbody tr th {\n",
       "        vertical-align: top;\n",
       "    }\n",
       "\n",
       "    .dataframe thead th {\n",
       "        text-align: right;\n",
       "    }\n",
       "</style>\n",
       "<table border=\"1\" class=\"dataframe\">\n",
       "  <thead>\n",
       "    <tr style=\"text-align: right;\">\n",
       "      <th></th>\n",
       "      <th>Survived</th>\n",
       "      <th>Pclass</th>\n",
       "      <th>Age</th>\n",
       "      <th>SibSp</th>\n",
       "      <th>Parch</th>\n",
       "      <th>Fare</th>\n",
       "    </tr>\n",
       "  </thead>\n",
       "  <tbody>\n",
       "    <tr>\n",
       "      <th>Survived</th>\n",
       "      <td>1.000000</td>\n",
       "      <td>-0.108615</td>\n",
       "      <td>-0.000013</td>\n",
       "      <td>0.099943</td>\n",
       "      <td>0.159120</td>\n",
       "      <td>0.191514</td>\n",
       "    </tr>\n",
       "    <tr>\n",
       "      <th>Pclass</th>\n",
       "      <td>-0.108615</td>\n",
       "      <td>1.000000</td>\n",
       "      <td>-0.492143</td>\n",
       "      <td>0.001087</td>\n",
       "      <td>0.018721</td>\n",
       "      <td>-0.577147</td>\n",
       "    </tr>\n",
       "    <tr>\n",
       "      <th>Age</th>\n",
       "      <td>-0.000013</td>\n",
       "      <td>-0.492143</td>\n",
       "      <td>1.000000</td>\n",
       "      <td>-0.091587</td>\n",
       "      <td>-0.061249</td>\n",
       "      <td>0.337932</td>\n",
       "    </tr>\n",
       "    <tr>\n",
       "      <th>SibSp</th>\n",
       "      <td>0.099943</td>\n",
       "      <td>0.001087</td>\n",
       "      <td>-0.091587</td>\n",
       "      <td>1.000000</td>\n",
       "      <td>0.306895</td>\n",
       "      <td>0.171539</td>\n",
       "    </tr>\n",
       "    <tr>\n",
       "      <th>Parch</th>\n",
       "      <td>0.159120</td>\n",
       "      <td>0.018721</td>\n",
       "      <td>-0.061249</td>\n",
       "      <td>0.306895</td>\n",
       "      <td>1.000000</td>\n",
       "      <td>0.230046</td>\n",
       "    </tr>\n",
       "    <tr>\n",
       "      <th>Fare</th>\n",
       "      <td>0.191514</td>\n",
       "      <td>-0.577147</td>\n",
       "      <td>0.337932</td>\n",
       "      <td>0.171539</td>\n",
       "      <td>0.230046</td>\n",
       "      <td>1.000000</td>\n",
       "    </tr>\n",
       "  </tbody>\n",
       "</table>\n",
       "</div>"
      ],
      "text/plain": [
       "          Survived    Pclass       Age     SibSp     Parch      Fare\n",
       "Survived  1.000000 -0.108615 -0.000013  0.099943  0.159120  0.191514\n",
       "Pclass   -0.108615  1.000000 -0.492143  0.001087  0.018721 -0.577147\n",
       "Age      -0.000013 -0.492143  1.000000 -0.091587 -0.061249  0.337932\n",
       "SibSp     0.099943  0.001087 -0.091587  1.000000  0.306895  0.171539\n",
       "Parch     0.159120  0.018721 -0.061249  0.306895  1.000000  0.230046\n",
       "Fare      0.191514 -0.577147  0.337932  0.171539  0.230046  1.000000"
      ]
     },
     "execution_count": 21,
     "metadata": {},
     "output_type": "execute_result"
    }
   ],
   "source": [
    "corr"
   ]
  },
  {
   "cell_type": "code",
   "execution_count": 22,
   "id": "506b2654",
   "metadata": {
    "execution": {
     "iopub.execute_input": "2023-10-23T18:38:46.061672Z",
     "iopub.status.busy": "2023-10-23T18:38:46.061163Z",
     "iopub.status.idle": "2023-10-23T18:38:46.616567Z",
     "shell.execute_reply": "2023-10-23T18:38:46.615141Z"
    },
    "papermill": {
     "duration": 0.580454,
     "end_time": "2023-10-23T18:38:46.619649",
     "exception": false,
     "start_time": "2023-10-23T18:38:46.039195",
     "status": "completed"
    },
    "tags": []
   },
   "outputs": [
    {
     "data": {
      "text/plain": [
       "<AxesSubplot:>"
      ]
     },
     "execution_count": 22,
     "metadata": {},
     "output_type": "execute_result"
    },
    {
     "data": {
      "image/png": "[encoded data removed]",
      "text/plain": [
       "<Figure size 720x720 with 2 Axes>"
      ]
     },
     "metadata": {
      "needs_background": "light"
     },
     "output_type": "display_data"
    }
   ],
   "source": [
    "plt.figure(figsize=(10,10))\n",
    "sns.heatmap(corr,annot=True)"
   ]
  },
  {
   "cell_type": "markdown",
   "id": "fb775e0f",
   "metadata": {
    "papermill": {
     "duration": 0.02066,
     "end_time": "2023-10-23T18:38:46.661387",
     "exception": false,
     "start_time": "2023-10-23T18:38:46.640727",
     "status": "completed"
    },
    "tags": []
   },
   "source": [
    "# Spliting Data into categorical data and numerical Data"
   ]
  },
  {
   "cell_type": "code",
   "execution_count": 23,
   "id": "ce217bca",
   "metadata": {
    "execution": {
     "iopub.execute_input": "2023-10-23T18:38:46.707175Z",
     "iopub.status.busy": "2023-10-23T18:38:46.706683Z",
     "iopub.status.idle": "2023-10-23T18:38:46.737674Z",
     "shell.execute_reply": "2023-10-23T18:38:46.736173Z"
    },
    "papermill": {
     "duration": 0.056579,
     "end_time": "2023-10-23T18:38:46.740613",
     "exception": false,
     "start_time": "2023-10-23T18:38:46.684034",
     "status": "completed"
    },
    "tags": []
   },
   "outputs": [],
   "source": [
    "categorical_data=pd.DataFrame([data.Sex,data.Embarked,data.Survived,data.Pclass,data.SibSp,data.Parch])\n"
   ]
  },
  {
   "cell_type": "code",
   "execution_count": 24,
   "id": "ae00e4dc",
   "metadata": {
    "execution": {
     "iopub.execute_input": "2023-10-23T18:38:46.783784Z",
     "iopub.status.busy": "2023-10-23T18:38:46.783327Z",
     "iopub.status.idle": "2023-10-23T18:38:46.791138Z",
     "shell.execute_reply": "2023-10-23T18:38:46.789728Z"
    },
    "papermill": {
     "duration": 0.032498,
     "end_time": "2023-10-23T18:38:46.793975",
     "exception": false,
     "start_time": "2023-10-23T18:38:46.761477",
     "status": "completed"
    },
    "tags": []
   },
   "outputs": [],
   "source": [
    "categorical_data=categorical_data.T\n"
   ]
  },
  {
   "cell_type": "code",
   "execution_count": 25,
   "id": "2c5d1ab2",
   "metadata": {
    "execution": {
     "iopub.execute_input": "2023-10-23T18:38:46.838078Z",
     "iopub.status.busy": "2023-10-23T18:38:46.837608Z",
     "iopub.status.idle": "2023-10-23T18:38:46.857560Z",
     "shell.execute_reply": "2023-10-23T18:38:46.856232Z"
    },
    "papermill": {
     "duration": 0.045996,
     "end_time": "2023-10-23T18:38:46.860786",
     "exception": false,
     "start_time": "2023-10-23T18:38:46.814790",
     "status": "completed"
    },
    "tags": []
   },
   "outputs": [
    {
     "data": {
      "text/html": [
       "<div>\n",
       "<style scoped>\n",
       "    .dataframe tbody tr th:only-of-type {\n",
       "        vertical-align: middle;\n",
       "    }\n",
       "\n",
       "    .dataframe tbody tr th {\n",
       "        vertical-align: top;\n",
       "    }\n",
       "\n",
       "    .dataframe thead th {\n",
       "        text-align: right;\n",
       "    }\n",
       "</style>\n",
       "<table border=\"1\" class=\"dataframe\">\n",
       "  <thead>\n",
       "    <tr style=\"text-align: right;\">\n",
       "      <th></th>\n",
       "      <th>Sex</th>\n",
       "      <th>Embarked</th>\n",
       "      <th>Survived</th>\n",
       "      <th>Pclass</th>\n",
       "      <th>SibSp</th>\n",
       "      <th>Parch</th>\n",
       "    </tr>\n",
       "  </thead>\n",
       "  <tbody>\n",
       "    <tr>\n",
       "      <th>0</th>\n",
       "      <td>male</td>\n",
       "      <td>Q</td>\n",
       "      <td>0</td>\n",
       "      <td>3</td>\n",
       "      <td>0</td>\n",
       "      <td>0</td>\n",
       "    </tr>\n",
       "    <tr>\n",
       "      <th>1</th>\n",
       "      <td>female</td>\n",
       "      <td>S</td>\n",
       "      <td>1</td>\n",
       "      <td>3</td>\n",
       "      <td>1</td>\n",
       "      <td>0</td>\n",
       "    </tr>\n",
       "    <tr>\n",
       "      <th>2</th>\n",
       "      <td>male</td>\n",
       "      <td>Q</td>\n",
       "      <td>0</td>\n",
       "      <td>2</td>\n",
       "      <td>0</td>\n",
       "      <td>0</td>\n",
       "    </tr>\n",
       "    <tr>\n",
       "      <th>3</th>\n",
       "      <td>male</td>\n",
       "      <td>S</td>\n",
       "      <td>0</td>\n",
       "      <td>3</td>\n",
       "      <td>0</td>\n",
       "      <td>0</td>\n",
       "    </tr>\n",
       "    <tr>\n",
       "      <th>4</th>\n",
       "      <td>female</td>\n",
       "      <td>S</td>\n",
       "      <td>1</td>\n",
       "      <td>3</td>\n",
       "      <td>1</td>\n",
       "      <td>1</td>\n",
       "    </tr>\n",
       "    <tr>\n",
       "      <th>...</th>\n",
       "      <td>...</td>\n",
       "      <td>...</td>\n",
       "      <td>...</td>\n",
       "      <td>...</td>\n",
       "      <td>...</td>\n",
       "      <td>...</td>\n",
       "    </tr>\n",
       "    <tr>\n",
       "      <th>413</th>\n",
       "      <td>male</td>\n",
       "      <td>S</td>\n",
       "      <td>0</td>\n",
       "      <td>3</td>\n",
       "      <td>0</td>\n",
       "      <td>0</td>\n",
       "    </tr>\n",
       "    <tr>\n",
       "      <th>414</th>\n",
       "      <td>female</td>\n",
       "      <td>C</td>\n",
       "      <td>1</td>\n",
       "      <td>1</td>\n",
       "      <td>0</td>\n",
       "      <td>0</td>\n",
       "    </tr>\n",
       "    <tr>\n",
       "      <th>415</th>\n",
       "      <td>male</td>\n",
       "      <td>S</td>\n",
       "      <td>0</td>\n",
       "      <td>3</td>\n",
       "      <td>0</td>\n",
       "      <td>0</td>\n",
       "    </tr>\n",
       "    <tr>\n",
       "      <th>416</th>\n",
       "      <td>male</td>\n",
       "      <td>S</td>\n",
       "      <td>0</td>\n",
       "      <td>3</td>\n",
       "      <td>0</td>\n",
       "      <td>0</td>\n",
       "    </tr>\n",
       "    <tr>\n",
       "      <th>417</th>\n",
       "      <td>male</td>\n",
       "      <td>C</td>\n",
       "      <td>0</td>\n",
       "      <td>3</td>\n",
       "      <td>1</td>\n",
       "      <td>1</td>\n",
       "    </tr>\n",
       "  </tbody>\n",
       "</table>\n",
       "<p>418 rows × 6 columns</p>\n",
       "</div>"
      ],
      "text/plain": [
       "        Sex Embarked Survived Pclass SibSp Parch\n",
       "0      male        Q        0      3     0     0\n",
       "1    female        S        1      3     1     0\n",
       "2      male        Q        0      2     0     0\n",
       "3      male        S        0      3     0     0\n",
       "4    female        S        1      3     1     1\n",
       "..      ...      ...      ...    ...   ...   ...\n",
       "413    male        S        0      3     0     0\n",
       "414  female        C        1      1     0     0\n",
       "415    male        S        0      3     0     0\n",
       "416    male        S        0      3     0     0\n",
       "417    male        C        0      3     1     1\n",
       "\n",
       "[418 rows x 6 columns]"
      ]
     },
     "execution_count": 25,
     "metadata": {},
     "output_type": "execute_result"
    }
   ],
   "source": [
    "categorical_data"
   ]
  },
  {
   "cell_type": "code",
   "execution_count": 26,
   "id": "f17c583b",
   "metadata": {
    "execution": {
     "iopub.execute_input": "2023-10-23T18:38:46.904764Z",
     "iopub.status.busy": "2023-10-23T18:38:46.904296Z",
     "iopub.status.idle": "2023-10-23T18:38:46.920856Z",
     "shell.execute_reply": "2023-10-23T18:38:46.919263Z"
    },
    "papermill": {
     "duration": 0.043165,
     "end_time": "2023-10-23T18:38:46.925134",
     "exception": false,
     "start_time": "2023-10-23T18:38:46.881969",
     "status": "completed"
    },
    "tags": []
   },
   "outputs": [],
   "source": [
    "numerical_data=pd.DataFrame([data.Age,data.Fare])"
   ]
  },
  {
   "cell_type": "code",
   "execution_count": 27,
   "id": "5ca85e78",
   "metadata": {
    "execution": {
     "iopub.execute_input": "2023-10-23T18:38:46.969186Z",
     "iopub.status.busy": "2023-10-23T18:38:46.968736Z",
     "iopub.status.idle": "2023-10-23T18:38:46.987802Z",
     "shell.execute_reply": "2023-10-23T18:38:46.985965Z"
    },
    "papermill": {
     "duration": 0.044165,
     "end_time": "2023-10-23T18:38:46.990677",
     "exception": false,
     "start_time": "2023-10-23T18:38:46.946512",
     "status": "completed"
    },
    "tags": []
   },
   "outputs": [
    {
     "data": {
      "text/html": [
       "<div>\n",
       "<style scoped>\n",
       "    .dataframe tbody tr th:only-of-type {\n",
       "        vertical-align: middle;\n",
       "    }\n",
       "\n",
       "    .dataframe tbody tr th {\n",
       "        vertical-align: top;\n",
       "    }\n",
       "\n",
       "    .dataframe thead th {\n",
       "        text-align: right;\n",
       "    }\n",
       "</style>\n",
       "<table border=\"1\" class=\"dataframe\">\n",
       "  <thead>\n",
       "    <tr style=\"text-align: right;\">\n",
       "      <th></th>\n",
       "      <th>Age</th>\n",
       "      <th>Fare</th>\n",
       "    </tr>\n",
       "  </thead>\n",
       "  <tbody>\n",
       "    <tr>\n",
       "      <th>0</th>\n",
       "      <td>34.5</td>\n",
       "      <td>7.8292</td>\n",
       "    </tr>\n",
       "    <tr>\n",
       "      <th>1</th>\n",
       "      <td>47.0</td>\n",
       "      <td>7.0000</td>\n",
       "    </tr>\n",
       "    <tr>\n",
       "      <th>2</th>\n",
       "      <td>62.0</td>\n",
       "      <td>9.6875</td>\n",
       "    </tr>\n",
       "    <tr>\n",
       "      <th>3</th>\n",
       "      <td>27.0</td>\n",
       "      <td>8.6625</td>\n",
       "    </tr>\n",
       "    <tr>\n",
       "      <th>4</th>\n",
       "      <td>22.0</td>\n",
       "      <td>12.2875</td>\n",
       "    </tr>\n",
       "    <tr>\n",
       "      <th>...</th>\n",
       "      <td>...</td>\n",
       "      <td>...</td>\n",
       "    </tr>\n",
       "    <tr>\n",
       "      <th>413</th>\n",
       "      <td>NaN</td>\n",
       "      <td>8.0500</td>\n",
       "    </tr>\n",
       "    <tr>\n",
       "      <th>414</th>\n",
       "      <td>39.0</td>\n",
       "      <td>108.9000</td>\n",
       "    </tr>\n",
       "    <tr>\n",
       "      <th>415</th>\n",
       "      <td>38.5</td>\n",
       "      <td>7.2500</td>\n",
       "    </tr>\n",
       "    <tr>\n",
       "      <th>416</th>\n",
       "      <td>NaN</td>\n",
       "      <td>8.0500</td>\n",
       "    </tr>\n",
       "    <tr>\n",
       "      <th>417</th>\n",
       "      <td>NaN</td>\n",
       "      <td>22.3583</td>\n",
       "    </tr>\n",
       "  </tbody>\n",
       "</table>\n",
       "<p>418 rows × 2 columns</p>\n",
       "</div>"
      ],
      "text/plain": [
       "      Age      Fare\n",
       "0    34.5    7.8292\n",
       "1    47.0    7.0000\n",
       "2    62.0    9.6875\n",
       "3    27.0    8.6625\n",
       "4    22.0   12.2875\n",
       "..    ...       ...\n",
       "413   NaN    8.0500\n",
       "414  39.0  108.9000\n",
       "415  38.5    7.2500\n",
       "416   NaN    8.0500\n",
       "417   NaN   22.3583\n",
       "\n",
       "[418 rows x 2 columns]"
      ]
     },
     "execution_count": 27,
     "metadata": {},
     "output_type": "execute_result"
    }
   ],
   "source": [
    "numerical_data=numerical_data.T\n",
    "numerical_data"
   ]
  },
  {
   "cell_type": "code",
   "execution_count": 28,
   "id": "ca859f49",
   "metadata": {
    "execution": {
     "iopub.execute_input": "2023-10-23T18:38:47.047663Z",
     "iopub.status.busy": "2023-10-23T18:38:47.047106Z",
     "iopub.status.idle": "2023-10-23T18:38:47.357134Z",
     "shell.execute_reply": "2023-10-23T18:38:47.355694Z"
    },
    "papermill": {
     "duration": 0.337456,
     "end_time": "2023-10-23T18:38:47.360293",
     "exception": false,
     "start_time": "2023-10-23T18:38:47.022837",
     "status": "completed"
    },
    "tags": []
   },
   "outputs": [
    {
     "data": {
      "text/plain": [
       "<AxesSubplot:ylabel='Density'>"
      ]
     },
     "execution_count": 28,
     "metadata": {},
     "output_type": "execute_result"
    },
    {
     "data": {
      "image/png": "[encoded data removed]",
      "text/plain": [
       "<Figure size 432x288 with 1 Axes>"
      ]
     },
     "metadata": {
      "needs_background": "light"
     },
     "output_type": "display_data"
    }
   ],
   "source": [
    "numerical_data.plot.kde()"
   ]
  },
  {
   "cell_type": "code",
   "execution_count": 29,
   "id": "82d0c724",
   "metadata": {
    "execution": {
     "iopub.execute_input": "2023-10-23T18:38:47.408423Z",
     "iopub.status.busy": "2023-10-23T18:38:47.407970Z",
     "iopub.status.idle": "2023-10-23T18:38:48.783465Z",
     "shell.execute_reply": "2023-10-23T18:38:48.782574Z"
    },
    "papermill": {
     "duration": 1.403333,
     "end_time": "2023-10-23T18:38:48.786868",
     "exception": false,
     "start_time": "2023-10-23T18:38:47.383535",
     "status": "completed"
    },
    "tags": []
   },
   "outputs": [
    {
     "data": {
      "text/plain": [
       "<seaborn.axisgrid.PairGrid at 0x7fa227f4ad10>"
      ]
     },
     "execution_count": 29,
     "metadata": {},
     "output_type": "execute_result"
    },
    {
     "data": {
      "image/png": "[encoded data removed]",
      "text/plain": [
       "<Figure size 360x360 with 6 Axes>"
      ]
     },
     "metadata": {
      "needs_background": "light"
     },
     "output_type": "display_data"
    }
   ],
   "source": [
    "sns.pairplot(numerical_data)"
   ]
  },
  {
   "cell_type": "code",
   "execution_count": 30,
   "id": "1d65dedc",
   "metadata": {
    "execution": {
     "iopub.execute_input": "2023-10-23T18:38:48.836131Z",
     "iopub.status.busy": "2023-10-23T18:38:48.835651Z",
     "iopub.status.idle": "2023-10-23T18:38:48.842754Z",
     "shell.execute_reply": "2023-10-23T18:38:48.841906Z"
    },
    "papermill": {
     "duration": 0.03479,
     "end_time": "2023-10-23T18:38:48.845304",
     "exception": false,
     "start_time": "2023-10-23T18:38:48.810514",
     "status": "completed"
    },
    "tags": []
   },
   "outputs": [
    {
     "data": {
      "text/plain": [
       "['Sex', 'Embarked', 'Survived', 'Pclass', 'SibSp', 'Parch']"
      ]
     },
     "execution_count": 30,
     "metadata": {},
     "output_type": "execute_result"
    }
   ],
   "source": [
    "categorical_data.columns.to_list()"
   ]
  },
  {
   "cell_type": "code",
   "execution_count": 31,
   "id": "152ca0de",
   "metadata": {
    "execution": {
     "iopub.execute_input": "2023-10-23T18:38:48.894311Z",
     "iopub.status.busy": "2023-10-23T18:38:48.893244Z",
     "iopub.status.idle": "2023-10-23T18:38:48.903022Z",
     "shell.execute_reply": "2023-10-23T18:38:48.901533Z"
    },
    "papermill": {
     "duration": 0.037978,
     "end_time": "2023-10-23T18:38:48.906358",
     "exception": false,
     "start_time": "2023-10-23T18:38:48.868380",
     "status": "completed"
    },
    "tags": []
   },
   "outputs": [
    {
     "name": "stdout",
     "output_type": "stream",
     "text": [
      "Sex ['male' 'female']\n",
      "Embarked ['Q' 'S' 'C']\n",
      "Survived [0 1]\n",
      "Pclass [3 2 1]\n",
      "SibSp [0 1 2 3 4 5 8]\n",
      "Parch [0 1 3 2 4 6 5 9]\n"
     ]
    }
   ],
   "source": [
    "for col  in  categorical_data:\n",
    "     print(col,categorical_data[col].unique())"
   ]
  },
  {
   "cell_type": "code",
   "execution_count": 32,
   "id": "b50079d7",
   "metadata": {
    "execution": {
     "iopub.execute_input": "2023-10-23T18:38:48.960272Z",
     "iopub.status.busy": "2023-10-23T18:38:48.959839Z",
     "iopub.status.idle": "2023-10-23T18:38:50.059977Z",
     "shell.execute_reply": "2023-10-23T18:38:50.057985Z"
    },
    "papermill": {
     "duration": 1.134728,
     "end_time": "2023-10-23T18:38:50.065598",
     "exception": false,
     "start_time": "2023-10-23T18:38:48.930870",
     "status": "completed"
    },
    "tags": []
   },
   "outputs": [
    {
     "data": {
      "image/png": "[encoded data removed]",
      "text/plain": [
       "<Figure size 432x288 with 1 Axes>"
      ]
     },
     "metadata": {},
     "output_type": "display_data"
    },
    {
     "data": {
      "image/png": "[encoded data removed]",
      "text/plain": [
       "<Figure size 432x288 with 1 Axes>"
      ]
     },
     "metadata": {},
     "output_type": "display_data"
    },
    {
     "data": {
      "image/png": "[encoded data removed]",
      "text/plain": [
       "<Figure size 432x288 with 1 Axes>"
      ]
     },
     "metadata": {},
     "output_type": "display_data"
    },
    {
     "data": {
      "image/png": "[encoded data removed]",
      "text/plain": [
       "<Figure size 432x288 with 1 Axes>"
      ]
     },
     "metadata": {},
     "output_type": "display_data"
    },
    {
     "data": {
      "image/png": "[encoded data removed]",
      "text/plain": [
       "<Figure size 432x288 with 1 Axes>"
      ]
     },
     "metadata": {},
     "output_type": "display_data"
    },
    {
     "data": {
      "image/png": "[encoded data removed]",
      "text/plain": [
       "<Figure size 432x288 with 1 Axes>"
      ]
     },
     "metadata": {},
     "output_type": "display_data"
    }
   ],
   "source": [
    "for col in categorical_data:\n",
    "   \n",
    "    plt.show()\n",
    "    plt.title(col)\n",
    "    categorical_data[col].value_counts().plot.pie()"
   ]
  },
  {
   "cell_type": "code",
   "execution_count": 33,
   "id": "3f7afe77",
   "metadata": {
    "execution": {
     "iopub.execute_input": "2023-10-23T18:38:50.149605Z",
     "iopub.status.busy": "2023-10-23T18:38:50.148940Z",
     "iopub.status.idle": "2023-10-23T18:38:51.495416Z",
     "shell.execute_reply": "2023-10-23T18:38:51.493813Z"
    },
    "papermill": {
     "duration": 1.376947,
     "end_time": "2023-10-23T18:38:51.498593",
     "exception": false,
     "start_time": "2023-10-23T18:38:50.121646",
     "status": "completed"
    },
    "tags": []
   },
   "outputs": [
    {
     "data": {
      "image/png": "[encoded data removed]",
      "text/plain": [
       "<Figure size 432x288 with 1 Axes>"
      ]
     },
     "metadata": {
      "needs_background": "light"
     },
     "output_type": "display_data"
    },
    {
     "data": {
      "image/png": "[encoded data removed]",
      "text/plain": [
       "<Figure size 432x288 with 1 Axes>"
      ]
     },
     "metadata": {
      "needs_background": "light"
     },
     "output_type": "display_data"
    },
    {
     "data": {
      "image/png": "[encoded data removed]",
      "text/plain": [
       "<Figure size 432x288 with 1 Axes>"
      ]
     },
     "metadata": {
      "needs_background": "light"
     },
     "output_type": "display_data"
    },
    {
     "data": {
      "image/png": "[encoded data removed]",
      "text/plain": [
       "<Figure size 432x288 with 1 Axes>"
      ]
     },
     "metadata": {
      "needs_background": "light"
     },
     "output_type": "display_data"
    },
    {
     "data": {
      "image/png": "[encoded data removed]",
      "text/plain": [
       "<Figure size 432x288 with 1 Axes>"
      ]
     },
     "metadata": {
      "needs_background": "light"
     },
     "output_type": "display_data"
    },
    {
     "data": {
      "image/png": "[encoded data removed]",
      "text/plain": [
       "<Figure size 432x288 with 1 Axes>"
      ]
     },
     "metadata": {
      "needs_background": "light"
     },
     "output_type": "display_data"
    }
   ],
   "source": [
    "for col in categorical_data:\n",
    "    plt.show()\n",
    "    plt.title(col)\n",
    "    categorical_data[col].hist()"
   ]
  },
  {
   "cell_type": "markdown",
   "id": "d76abc96",
   "metadata": {
    "papermill": {
     "duration": 0.027217,
     "end_time": "2023-10-23T18:38:51.553169",
     "exception": false,
     "start_time": "2023-10-23T18:38:51.525952",
     "status": "completed"
    },
    "tags": []
   },
   "source": [
    "# Outliers "
   ]
  },
  {
   "cell_type": "code",
   "execution_count": 34,
   "id": "dea9097c",
   "metadata": {
    "execution": {
     "iopub.execute_input": "2023-10-23T18:38:51.611581Z",
     "iopub.status.busy": "2023-10-23T18:38:51.611157Z",
     "iopub.status.idle": "2023-10-23T18:38:51.868290Z",
     "shell.execute_reply": "2023-10-23T18:38:51.866603Z"
    },
    "papermill": {
     "duration": 0.290802,
     "end_time": "2023-10-23T18:38:51.871914",
     "exception": false,
     "start_time": "2023-10-23T18:38:51.581112",
     "status": "completed"
    },
    "tags": []
   },
   "outputs": [
    {
     "data": {
      "text/plain": [
       "<AxesSubplot:>"
      ]
     },
     "execution_count": 34,
     "metadata": {},
     "output_type": "execute_result"
    },
    {
     "data": {
      "image/png": "[encoded data removed]",
      "text/plain": [
       "<Figure size 432x288 with 1 Axes>"
      ]
     },
     "metadata": {
      "needs_background": "light"
     },
     "output_type": "display_data"
    }
   ],
   "source": [
    "sns.boxplot(data=categorical_data)"
   ]
  },
  {
   "cell_type": "markdown",
   "id": "7072f930",
   "metadata": {
    "papermill": {
     "duration": 0.027708,
     "end_time": "2023-10-23T18:38:51.929060",
     "exception": false,
     "start_time": "2023-10-23T18:38:51.901352",
     "status": "completed"
    },
    "tags": []
   },
   "source": [
    "# target Analysis"
   ]
  },
  {
   "cell_type": "code",
   "execution_count": 35,
   "id": "190730b8",
   "metadata": {
    "execution": {
     "iopub.execute_input": "2023-10-23T18:38:51.988687Z",
     "iopub.status.busy": "2023-10-23T18:38:51.987780Z",
     "iopub.status.idle": "2023-10-23T18:38:51.992511Z",
     "shell.execute_reply": "2023-10-23T18:38:51.991646Z"
    },
    "papermill": {
     "duration": 0.036716,
     "end_time": "2023-10-23T18:38:51.995149",
     "exception": false,
     "start_time": "2023-10-23T18:38:51.958433",
     "status": "completed"
    },
    "tags": []
   },
   "outputs": [],
   "source": [
    "target=categorical_data.Survived"
   ]
  },
  {
   "cell_type": "code",
   "execution_count": 36,
   "id": "0e9cf297",
   "metadata": {
    "execution": {
     "iopub.execute_input": "2023-10-23T18:38:52.055510Z",
     "iopub.status.busy": "2023-10-23T18:38:52.054867Z",
     "iopub.status.idle": "2023-10-23T18:38:52.063478Z",
     "shell.execute_reply": "2023-10-23T18:38:52.062550Z"
    },
    "papermill": {
     "duration": 0.040826,
     "end_time": "2023-10-23T18:38:52.066158",
     "exception": false,
     "start_time": "2023-10-23T18:38:52.025332",
     "status": "completed"
    },
    "tags": []
   },
   "outputs": [
    {
     "data": {
      "text/plain": [
       "0      0\n",
       "1      1\n",
       "2      0\n",
       "3      0\n",
       "4      1\n",
       "      ..\n",
       "413    0\n",
       "414    1\n",
       "415    0\n",
       "416    0\n",
       "417    0\n",
       "Name: Survived, Length: 418, dtype: object"
      ]
     },
     "execution_count": 36,
     "metadata": {},
     "output_type": "execute_result"
    }
   ],
   "source": [
    "target"
   ]
  },
  {
   "cell_type": "code",
   "execution_count": 37,
   "id": "fddb0e36",
   "metadata": {
    "execution": {
     "iopub.execute_input": "2023-10-23T18:38:52.122988Z",
     "iopub.status.busy": "2023-10-23T18:38:52.122504Z",
     "iopub.status.idle": "2023-10-23T18:38:52.131423Z",
     "shell.execute_reply": "2023-10-23T18:38:52.130548Z"
    },
    "papermill": {
     "duration": 0.041426,
     "end_time": "2023-10-23T18:38:52.134998",
     "exception": false,
     "start_time": "2023-10-23T18:38:52.093572",
     "status": "completed"
    },
    "tags": []
   },
   "outputs": [
    {
     "data": {
      "text/plain": [
       "0    266\n",
       "1    152\n",
       "Name: Survived, dtype: int64"
      ]
     },
     "execution_count": 37,
     "metadata": {},
     "output_type": "execute_result"
    }
   ],
   "source": [
    "target.value_counts()"
   ]
  },
  {
   "cell_type": "code",
   "execution_count": 38,
   "id": "f35f1d9d",
   "metadata": {
    "execution": {
     "iopub.execute_input": "2023-10-23T18:38:52.193894Z",
     "iopub.status.busy": "2023-10-23T18:38:52.192962Z",
     "iopub.status.idle": "2023-10-23T18:38:52.402583Z",
     "shell.execute_reply": "2023-10-23T18:38:52.401656Z"
    },
    "papermill": {
     "duration": 0.242879,
     "end_time": "2023-10-23T18:38:52.406444",
     "exception": false,
     "start_time": "2023-10-23T18:38:52.163565",
     "status": "completed"
    },
    "tags": []
   },
   "outputs": [
    {
     "name": "stderr",
     "output_type": "stream",
     "text": [
      "/opt/conda/lib/python3.7/site-packages/seaborn/_decorators.py:43: FutureWarning: Pass the following variable as a keyword arg: x. From version 0.12, the only valid positional argument will be `data`, and passing other arguments without an explicit keyword will result in an error or misinterpretation.\n",
      "  FutureWarning\n"
     ]
    },
    {
     "data": {
      "image/png": "[encoded data removed]",
      "text/plain": [
       "<Figure size 576x432 with 1 Axes>"
      ]
     },
     "metadata": {
      "needs_background": "light"
     },
     "output_type": "display_data"
    }
   ],
   "source": [
    "plt.figure(figsize=(8,6))\n",
    "sns.countplot(target)\n",
    "yes=target.value_counts()[1]/len(target)\n",
    "no=target.value_counts()[0]/len(target)"
   ]
  },
  {
   "cell_type": "code",
   "execution_count": 39,
   "id": "4dcc6ffd",
   "metadata": {
    "execution": {
     "iopub.execute_input": "2023-10-23T18:38:52.466366Z",
     "iopub.status.busy": "2023-10-23T18:38:52.465275Z",
     "iopub.status.idle": "2023-10-23T18:38:52.473370Z",
     "shell.execute_reply": "2023-10-23T18:38:52.471486Z"
    },
    "papermill": {
     "duration": 0.040979,
     "end_time": "2023-10-23T18:38:52.476588",
     "exception": false,
     "start_time": "2023-10-23T18:38:52.435609",
     "status": "completed"
    },
    "tags": []
   },
   "outputs": [
    {
     "name": "stdout",
     "output_type": "stream",
     "text": [
      "le pourcentage des 1  0.36363636363636365\n",
      "le pourcentage des 0 est  0.6363636363636364\n"
     ]
    }
   ],
   "source": [
    "print('le pourcentage des 1 ',yes)\n",
    "print('le pourcentage des 0 est ',no)"
   ]
  },
  {
   "cell_type": "code",
   "execution_count": null,
   "id": "fe2fabd8",
   "metadata": {
    "papermill": {
     "duration": 0.026804,
     "end_time": "2023-10-23T18:38:52.531272",
     "exception": false,
     "start_time": "2023-10-23T18:38:52.504468",
     "status": "completed"
    },
    "tags": []
   },
   "outputs": [],
   "source": []
  }
 ],
 "metadata": {
  "kernelspec": {
   "display_name": "Python 3",
   "language": "python",
   "name": "python3"
  },
  "language_info": {
   "codemirror_mode": {
    "name": "ipython",
    "version": 3
   },
   "file_extension": ".py",
   "mimetype": "text/x-python",
   "name": "python",
   "nbconvert_exporter": "python",
   "pygments_lexer": "ipython3",
   "version": "3.7.12"
  },
  "papermill": {
   "default_parameters": {},
   "duration": 24.753618,
   "end_time": "2023-10-23T18:38:53.486652",
   "environment_variables": {},
   "exception": null,
   "input_path": "__notebook__.ipynb",
   "output_path": "__notebook__.ipynb",
   "parameters": {},
   "start_time": "2023-10-23T18:38:28.733034",
   "version": "2.3.4"
  }
 },
 "nbformat": 4,
 "nbformat_minor": 5
}
